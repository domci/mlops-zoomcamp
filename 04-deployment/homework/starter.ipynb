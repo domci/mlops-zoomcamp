{
 "cells": [
  {
   "cell_type": "code",
   "execution_count": 17,
   "id": "2c51efaa",
   "metadata": {},
   "outputs": [
    {
     "name": "stdout",
     "output_type": "stream",
     "text": [
      "scikit-learn @ file:///tmp/build/80754af9/scikit-learn_1642617106979/work\n",
      "scikit-learn-intelex==2021.20220215.212715\n"
     ]
    }
   ],
   "source": [
    "!pip freeze | grep scikit-learn"
   ]
  },
  {
   "cell_type": "code",
   "execution_count": 20,
   "id": "f3cb42ed-e091-4fe4-bf9c-9bfc51c49871",
   "metadata": {},
   "outputs": [
    {
     "name": "stdout",
     "output_type": "stream",
     "text": [
      "The scikit-learn version is 1.0.2.\n"
     ]
    }
   ],
   "source": [
    "import sklearn\n",
    "print('The scikit-learn version is {}.'.format(sklearn.__version__))"
   ]
  },
  {
   "cell_type": "code",
   "execution_count": 19,
   "id": "a8f8d387-642f-49d1-a3fd-83b05d3c12eb",
   "metadata": {},
   "outputs": [
    {
     "name": "stdout",
     "output_type": "stream",
     "text": [
      "cloudpickle @ file:///tmp/build/80754af9/cloudpickle_1632508026186/work\n",
      "pickleshare @ file:///tmp/build/80754af9/pickleshare_1606932040724/work\n"
     ]
    }
   ],
   "source": [
    "!pip freeze | grep pickle"
   ]
  },
  {
   "cell_type": "code",
   "execution_count": 8,
   "id": "0ef880a0",
   "metadata": {},
   "outputs": [],
   "source": [
    "import pickle\n",
    "import pandas as pd\n",
    "import numpy as np"
   ]
  },
  {
   "cell_type": "code",
   "execution_count": 2,
   "id": "7836ccfd",
   "metadata": {},
   "outputs": [],
   "source": [
    "with open('model.bin', 'rb') as f_in:\n",
    "    dv, lr = pickle.load(f_in)"
   ]
  },
  {
   "cell_type": "code",
   "execution_count": 3,
   "id": "41c08294",
   "metadata": {},
   "outputs": [],
   "source": [
    "categorical = ['PUlocationID', 'DOlocationID']\n",
    "\n",
    "def read_data(filename):\n",
    "    df = pd.read_parquet(filename)\n",
    "    \n",
    "    df['duration'] = df.dropOff_datetime - df.pickup_datetime\n",
    "    df['duration'] = df.duration.dt.total_seconds() / 60\n",
    "\n",
    "    df = df[(df.duration >= 1) & (df.duration <= 60)].copy()\n",
    "\n",
    "    df[categorical] = df[categorical].fillna(-1).astype('int').astype('str')\n",
    "    \n",
    "    return df"
   ]
  },
  {
   "cell_type": "code",
   "execution_count": 4,
   "id": "4854399a",
   "metadata": {},
   "outputs": [],
   "source": [
    "df = read_data('https://nyc-tlc.s3.amazonaws.com/trip+data/fhv_tripdata_2021-02.parquet')"
   ]
  },
  {
   "cell_type": "code",
   "execution_count": 5,
   "id": "669fda0a",
   "metadata": {},
   "outputs": [],
   "source": [
    "dicts = df[categorical].to_dict(orient='records')\n",
    "X_val = dv.transform(dicts)\n",
    "y_pred = lr.predict(X_val)\n",
    "\n",
    "\n",
    "#What's the mean predicted duration for this dataset?\n",
    "#16.191691679979066\n"
   ]
  },
  {
   "cell_type": "code",
   "execution_count": 13,
   "id": "117cba39-1a5e-4762-922f-bf5fb7784b4a",
   "metadata": {},
   "outputs": [],
   "source": [
    "year = 2021\n",
    "month = 2\n",
    "\n",
    "df['ride_id'] = f'{year:04d}/{month:02d}_' + df.index.astype('str')"
   ]
  },
  {
   "cell_type": "code",
   "execution_count": 16,
   "id": "5a8a5f60-1742-4f52-afba-ce8109a6ae21",
   "metadata": {},
   "outputs": [],
   "source": [
    "output_file = 'out.parquet'\n",
    "\n",
    "df.to_parquet(\n",
    "    output_file,\n",
    "    engine='pyarrow',\n",
    "    compression=None,\n",
    "    index=False\n",
    ")\n",
    "\n",
    "#What's the size of the output file?\n",
    "#* 39M"
   ]
  },
  {
   "cell_type": "code",
   "execution_count": null,
   "id": "84556dfa-46cc-4712-abc0-15925e8e49fe",
   "metadata": {},
   "outputs": [],
   "source": [
    "#jupyter nbconvert mynotebook.ipynb --to python"
   ]
  },
  {
   "cell_type": "code",
   "execution_count": null,
   "id": "7f1e870b-25b7-4257-9ae8-a55870a2000e",
   "metadata": {},
   "outputs": [],
   "source": [
    "# What's the first hash for the Scikit-Learn dependency?\n",
    "#sha256:08ef968f6b72033c16c479c966bf37ccd49b06ea91b765e1cc27afefe723920b"
   ]
  },
  {
   "cell_type": "code",
   "execution_count": null,
   "id": "01e42878-138c-41dc-b76a-3f4f1714784e",
   "metadata": {},
   "outputs": [],
   "source": [
    "#What's the mean predicted duration? \n",
    "\n",
    "#* 16.29"
   ]
  },
  {
   "cell_type": "code",
   "execution_count": null,
   "id": "08b44b24-ea31-4182-a909-077ff00ae171",
   "metadata": {},
   "outputs": [],
   "source": [
    "#What's the mean predicted duration\n",
    "#for April 2021? \n",
    "\n",
    "\n",
    "#* 9.96"
   ]
  }
 ],
 "metadata": {
  "kernelspec": {
   "display_name": "Python 3 (ipykernel)",
   "language": "python",
   "name": "python3"
  },
  "language_info": {
   "codemirror_mode": {
    "name": "ipython",
    "version": 3
   },
   "file_extension": ".py",
   "mimetype": "text/x-python",
   "name": "python",
   "nbconvert_exporter": "python",
   "pygments_lexer": "ipython3",
   "version": "3.9.12"
  }
 },
 "nbformat": 4,
 "nbformat_minor": 5
}
