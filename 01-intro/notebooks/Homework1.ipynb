{
 "cells": [
  {
   "cell_type": "code",
   "execution_count": 1,
   "id": "93c7a31b-0832-49bb-8012-60f7125fe3f9",
   "metadata": {},
   "outputs": [],
   "source": [
    "import pandas as pd"
   ]
  },
  {
   "cell_type": "code",
   "execution_count": 2,
   "id": "7d15bbff-86d1-4eab-9ee8-f443a7d9041d",
   "metadata": {},
   "outputs": [],
   "source": [
    "import pickle"
   ]
  },
  {
   "cell_type": "code",
   "execution_count": 3,
   "id": "b3b38174-23e2-4f4b-9152-262654c443cf",
   "metadata": {},
   "outputs": [],
   "source": [
    "import seaborn as sns\n",
    "import matplotlib.pyplot as plt"
   ]
  },
  {
   "cell_type": "code",
   "execution_count": 4,
   "id": "eba151aa-1e55-47b4-b796-bd55cc8d8fe6",
   "metadata": {},
   "outputs": [],
   "source": [
    "from sklearn.feature_extraction import DictVectorizer\n",
    "from sklearn.linear_model import LinearRegression\n",
    "from sklearn.linear_model import Lasso\n",
    "from sklearn.linear_model import Ridge\n",
    "\n",
    "from sklearn.metrics import mean_squared_error"
   ]
  },
  {
   "cell_type": "markdown",
   "id": "a6a872ef-c75b-4390-a7b2-8e3ef02642de",
   "metadata": {},
   "source": [
    "def read_dataframe(filename):\n",
    "    if filename.endswith('.csv'):\n",
    "        df = pd.read_csv(filename)\n",
    "\n",
    "        df.lpep_dropoff_datetime = pd.to_datetime(df.lpep_dropoff_datetime)\n",
    "        df.lpep_pickup_datetime = pd.to_datetime(df.lpep_pickup_datetime)\n",
    "    elif filename.endswith('.parquet'):\n",
    "        df = pd.read_parquet(filename)\n",
    "\n",
    "    df['duration'] = df.lpep_dropoff_datetime - df.lpep_pickup_datetime\n",
    "    df.duration = df.duration.apply(lambda td: td.total_seconds() / 60)\n",
    "\n",
    "    df = df[(df.duration >= 1) & (df.duration <= 60)]\n",
    "\n",
    "    categorical = ['PULocationID', 'DOLocationID']\n",
    "    df[categorical] = df[categorical].astype(str)\n",
    "    \n",
    "    return df"
   ]
  },
  {
   "cell_type": "code",
   "execution_count": 5,
   "id": "337c3cb7-7819-4f65-b751-310f8b6b3d55",
   "metadata": {},
   "outputs": [],
   "source": [
    "df_train = df = pd.read_parquet('./data/fhv_tripdata_2021-01.parquet')\n",
    "df_val = pd.read_parquet('./data/fhv_tripdata_2021-02.parquet')"
   ]
  },
  {
   "cell_type": "code",
   "execution_count": 6,
   "id": "fa9e6333-440c-411e-8890-992f9efdac9e",
   "metadata": {},
   "outputs": [
    {
     "data": {
      "text/plain": [
       "<bound method NDFrame.describe of         dispatching_base_num     pickup_datetime    dropOff_datetime  \\\n",
       "0                     B00009 2021-01-01 00:27:00 2021-01-01 00:44:00   \n",
       "1                     B00009 2021-01-01 00:50:00 2021-01-01 01:07:00   \n",
       "2                     B00013 2021-01-01 00:01:00 2021-01-01 01:51:00   \n",
       "3                     B00037 2021-01-01 00:13:09 2021-01-01 00:21:26   \n",
       "4                     B00037 2021-01-01 00:38:31 2021-01-01 00:53:44   \n",
       "...                      ...                 ...                 ...   \n",
       "1154107               B03266 2021-01-31 23:43:03 2021-01-31 23:51:48   \n",
       "1154108               B03284 2021-01-31 23:50:27 2021-02-01 00:48:03   \n",
       "1154109      B03285          2021-01-31 23:13:46 2021-01-31 23:29:58   \n",
       "1154110      B03285          2021-01-31 23:58:03 2021-02-01 00:17:29   \n",
       "1154111               B03321 2021-01-31 23:39:00 2021-02-01 00:15:00   \n",
       "\n",
       "         PUlocationID  DOlocationID SR_Flag Affiliated_base_number  \n",
       "0                 NaN           NaN    None                 B00009  \n",
       "1                 NaN           NaN    None                 B00009  \n",
       "2                 NaN           NaN    None                 B00013  \n",
       "3                 NaN          72.0    None                 B00037  \n",
       "4                 NaN          61.0    None                 B00037  \n",
       "...               ...           ...     ...                    ...  \n",
       "1154107           7.0           7.0    None                 B03266  \n",
       "1154108          44.0          91.0    None                         \n",
       "1154109         171.0         171.0    None        B03285           \n",
       "1154110          15.0          15.0    None        B03285           \n",
       "1154111           NaN           NaN    None                 B03321  \n",
       "\n",
       "[1154112 rows x 7 columns]>"
      ]
     },
     "execution_count": 6,
     "metadata": {},
     "output_type": "execute_result"
    }
   ],
   "source": [
    "df_train.describe"
   ]
  },
  {
   "cell_type": "markdown",
   "id": "97f41cf1-ae8d-4fd9-bfb5-8cc78703b7ed",
   "metadata": {
    "tags": []
   },
   "source": [
    "### Q1: Read the data for January. How many records are there?"
   ]
  },
  {
   "cell_type": "code",
   "execution_count": 7,
   "id": "961376ec-7560-46b7-921d-762b64695fc5",
   "metadata": {},
   "outputs": [
    {
     "data": {
      "text/plain": [
       "1154112"
      ]
     },
     "execution_count": 7,
     "metadata": {},
     "output_type": "execute_result"
    }
   ],
   "source": [
    "1154112"
   ]
  },
  {
   "cell_type": "markdown",
   "id": "5dcf4b70-db66-4166-8e04-f335992a363c",
   "metadata": {},
   "source": [
    "### Q2: Computing duration\n",
    "Now let's compute the duration variable. It should contain the duration of a ride in minutes.\n",
    "\n",
    "What's the average trip duration in January?"
   ]
  },
  {
   "cell_type": "code",
   "execution_count": 8,
   "id": "d2172fbd-1e81-4b6e-8d28-1062f5c2fbf1",
   "metadata": {},
   "outputs": [
    {
     "data": {
      "text/plain": [
       "0           17.000000\n",
       "1           17.000000\n",
       "2          110.000000\n",
       "3            8.283333\n",
       "4           15.216667\n",
       "              ...    \n",
       "1154107      8.750000\n",
       "1154108     57.600000\n",
       "1154109     16.200000\n",
       "1154110     19.433333\n",
       "1154111     36.000000\n",
       "Name: duration, Length: 1154112, dtype: float64"
      ]
     },
     "execution_count": 8,
     "metadata": {},
     "output_type": "execute_result"
    }
   ],
   "source": [
    "df_train['duration'] = df_train.dropOff_datetime - df_train.pickup_datetime\n",
    "df_train.duration = df_train.duration.apply(lambda td: td.total_seconds() / 60)\n",
    "\n",
    "df_val['duration'] = df_val.dropOff_datetime - df_val.pickup_datetime\n",
    "df_val.duration = df_val.duration.apply(lambda td: td.total_seconds() / 60)\n",
    "\n",
    "\n",
    "df_train['duration']"
   ]
  },
  {
   "cell_type": "code",
   "execution_count": 9,
   "id": "64163c56-3cd7-46d4-b852-86c00f5d30cc",
   "metadata": {},
   "outputs": [
    {
     "data": {
      "text/plain": [
       "19.1672240937939"
      ]
     },
     "execution_count": 9,
     "metadata": {},
     "output_type": "execute_result"
    }
   ],
   "source": [
    "df_train['duration'].mean()"
   ]
  },
  {
   "cell_type": "markdown",
   "id": "6b500a39-81b4-4e37-9dba-bb17c2911664",
   "metadata": {},
   "source": [
    "19.1672240937939\n"
   ]
  },
  {
   "cell_type": "code",
   "execution_count": 10,
   "id": "835f7128-5311-4f69-9927-5010fa6840ee",
   "metadata": {},
   "outputs": [],
   "source": [
    "df_train = df_train[(df_train.duration >= 1) & (df_train.duration <= 60)].copy()\n",
    "df_val = df_val[(df_val.duration >= 1) & (df_val.duration <= 60)].copy()"
   ]
  },
  {
   "cell_type": "markdown",
   "id": "2c23017a-bf8a-4699-bd1f-c7cf4b0b1128",
   "metadata": {},
   "source": [
    "### Q3. Missing values\n",
    "The features we'll use for our model are the pickup and dropoff location IDs.\n",
    "\n",
    "But they have a lot of missing values there. Let's replace them with \"-1\".\n",
    "\n",
    "What's the fractions of missing values for the pickup location ID? I.e. fraction of \"-1\"s after you filled the NAs."
   ]
  },
  {
   "cell_type": "code",
   "execution_count": 11,
   "id": "a6e6a1e8-dc21-4fe9-9456-c46ab3e23a83",
   "metadata": {},
   "outputs": [
    {
     "data": {
      "text/plain": [
       "0.8352732770722617"
      ]
     },
     "execution_count": 11,
     "metadata": {},
     "output_type": "execute_result"
    }
   ],
   "source": [
    "len(df_train.PUlocationID.loc[df_train.PUlocationID.isna()]) / len(df_train)"
   ]
  },
  {
   "cell_type": "code",
   "execution_count": 12,
   "id": "5cb44cce-8c2d-4e5f-9a56-3cda449c9812",
   "metadata": {},
   "outputs": [],
   "source": [
    "df_train.PUlocationID = df_train.PUlocationID.fillna(-1).astype(str)\n",
    "df_train.DOlocationID = df_train.DOlocationID.fillna(-1).astype(str)\n",
    "\n",
    "df_val.PUlocationID = df_val.PUlocationID.fillna(-1).astype(str)\n",
    "df_val.DOlocationID = df_val.DOlocationID.fillna(-1).astype(str)"
   ]
  },
  {
   "cell_type": "markdown",
   "id": "eb36d529-10dd-496e-9d45-6b77e147613b",
   "metadata": {},
   "source": [
    "### Q4. One-hot encoding\n",
    "Let's apply one-hot encoding to the pickup and dropoff location IDs. We'll use only these two features for our model.\n",
    "\n",
    "Turn the dataframe into a list of dictionaries\n",
    "Fit a dictionary vectorizer\n",
    "Get a feature matrix from it\n",
    "What's the dimensionality of this matrix? (The number of columns)."
   ]
  },
  {
   "cell_type": "code",
   "execution_count": 13,
   "id": "cb8ef224-0867-4fe9-aef5-2e49d25164bf",
   "metadata": {},
   "outputs": [],
   "source": [
    "dv = DictVectorizer()\n",
    "\n",
    "train_dicts = df_train[['PUlocationID', 'DOlocationID']].to_dict(orient='records')\n",
    "X_train = dv.fit_transform(train_dicts)\n",
    "\n",
    "val_dicts = df_val[['PUlocationID', 'DOlocationID']].to_dict(orient='records')\n",
    "X_val = dv.transform(val_dicts)\n"
   ]
  },
  {
   "cell_type": "code",
   "execution_count": 14,
   "id": "bc49a083-1791-40e9-ae83-88734024c29c",
   "metadata": {},
   "outputs": [
    {
     "data": {
      "text/plain": [
       "[{'PUlocationID': '-1.0', 'DOlocationID': '-1.0'},\n",
       " {'PUlocationID': '-1.0', 'DOlocationID': '-1.0'},\n",
       " {'PUlocationID': '-1.0', 'DOlocationID': '72.0'},\n",
       " {'PUlocationID': '-1.0', 'DOlocationID': '61.0'},\n",
       " {'PUlocationID': '-1.0', 'DOlocationID': '71.0'},\n",
       " {'PUlocationID': '-1.0', 'DOlocationID': '91.0'},\n",
       " {'PUlocationID': '-1.0', 'DOlocationID': '39.0'},\n",
       " {'PUlocationID': '-1.0', 'DOlocationID': '37.0'},\n",
       " {'PUlocationID': '-1.0', 'DOlocationID': '39.0'},\n",
       " {'PUlocationID': '-1.0', 'DOlocationID': '72.0'}]"
      ]
     },
     "execution_count": 14,
     "metadata": {},
     "output_type": "execute_result"
    }
   ],
   "source": [
    "train_dicts[:10]"
   ]
  },
  {
   "cell_type": "code",
   "execution_count": 15,
   "id": "21facd72-c534-4595-a283-84ddb11419a1",
   "metadata": {},
   "outputs": [
    {
     "data": {
      "text/plain": [
       "(1109826, 525)"
      ]
     },
     "execution_count": 15,
     "metadata": {},
     "output_type": "execute_result"
    }
   ],
   "source": [
    "X_train.shape"
   ]
  },
  {
   "cell_type": "code",
   "execution_count": 16,
   "id": "f42e1b32-edcd-42b9-aaf6-a4d7a0532266",
   "metadata": {},
   "outputs": [
    {
     "data": {
      "text/plain": [
       "(990113, 525)"
      ]
     },
     "execution_count": 16,
     "metadata": {},
     "output_type": "execute_result"
    }
   ],
   "source": [
    "X_val.shape"
   ]
  },
  {
   "cell_type": "markdown",
   "id": "9e543f34-df36-4835-8ee2-ae6f67401fc3",
   "metadata": {},
   "source": [
    "#### 2"
   ]
  },
  {
   "cell_type": "markdown",
   "id": "098cb458-a7fd-48e6-851d-9c458b281527",
   "metadata": {},
   "source": [
    "#### Q5. Training a model\n",
    "Now let's use the feature matrix from the previous step to train a model.\n",
    "\n",
    "Train a plain linear regression model with default parameters\n",
    "Calculate the RMSE of the model on the training data\n",
    "What's the RMSE on train?\n",
    "\n",
    "5.52\n",
    "10.52\n",
    "15.52\n",
    "20.52\n"
   ]
  },
  {
   "cell_type": "code",
   "execution_count": 17,
   "id": "e4ad9c99-f0ac-4455-a9f2-7b7dd199b157",
   "metadata": {},
   "outputs": [],
   "source": [
    "y_train = df_train['duration'].values\n",
    "y_val = df_val['duration'].values"
   ]
  },
  {
   "cell_type": "code",
   "execution_count": 18,
   "id": "a1e3b9d3-b6b1-431b-8e61-9e0491cb560e",
   "metadata": {},
   "outputs": [
    {
     "data": {
      "text/plain": [
       "10.52851910722287"
      ]
     },
     "execution_count": 18,
     "metadata": {},
     "output_type": "execute_result"
    }
   ],
   "source": [
    "lr = LinearRegression()\n",
    "lr.fit(X_train, y_train)\n",
    "\n",
    "y_pred = lr.predict(X_train)\n",
    "\n",
    "mean_squared_error(y_train, y_pred, squared=False)\n"
   ]
  },
  {
   "cell_type": "markdown",
   "id": "df31d7c0-917f-4721-ae36-8d28366fb786",
   "metadata": {},
   "source": [
    "#### Q6. Evaluating the model\n",
    "Now let's apply this model to the validation dataset (Feb 2021).\n",
    "\n",
    "What's the RMSE on validation?\n",
    "\n",
    "6.01\n",
    "11.01\n",
    "16.01\n",
    "21.01"
   ]
  },
  {
   "cell_type": "code",
   "execution_count": 19,
   "id": "786c4aaf-04be-4340-86de-b6cdb0a81bd3",
   "metadata": {},
   "outputs": [
    {
     "data": {
      "text/plain": [
       "11.014283229248326"
      ]
     },
     "execution_count": 19,
     "metadata": {},
     "output_type": "execute_result"
    }
   ],
   "source": [
    "y_pred = lr.predict(X_val)\n",
    "mean_squared_error(y_val, y_pred, squared=False)\n"
   ]
  },
  {
   "cell_type": "code",
   "execution_count": null,
   "id": "b24983b5-0ade-4610-b783-6ef7c543646e",
   "metadata": {},
   "outputs": [],
   "source": []
  }
 ],
 "metadata": {
  "kernelspec": {
   "display_name": "Python 3 (ipykernel)",
   "language": "python",
   "name": "python3"
  },
  "language_info": {
   "codemirror_mode": {
    "name": "ipython",
    "version": 3
   },
   "file_extension": ".py",
   "mimetype": "text/x-python",
   "name": "python",
   "nbconvert_exporter": "python",
   "pygments_lexer": "ipython3",
   "version": "3.9.12"
  }
 },
 "nbformat": 4,
 "nbformat_minor": 5
}
